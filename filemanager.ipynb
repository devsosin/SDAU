{
 "metadata": {
  "language_info": {
   "codemirror_mode": {
    "name": "ipython",
    "version": 3
   },
   "file_extension": ".py",
   "mimetype": "text/x-python",
   "name": "python",
   "nbconvert_exporter": "python",
   "pygments_lexer": "ipython3",
   "version": "3.7.6-final"
  },
  "orig_nbformat": 2,
  "kernelspec": {
   "name": "python3",
   "display_name": "Python 3"
  }
 },
 "nbformat": 4,
 "nbformat_minor": 2,
 "cells": [
  {
   "source": [
    "# File Manager 사용법"
   ],
   "cell_type": "markdown",
   "metadata": {}
  },
  {
   "source": [
    "## File Maker (기본)\n",
    "\n",
    "1. FOLDER_PATH : 데이터를 저장할 경로 (설정하지 않을 시 현재 Working Directory 하위에 Datas/AA/001.txt로 생성)\n",
    "2. MAX_DATAS : 파일 당 최대 몇 번 저장할 것인지\n",
    "3. FILE_TYPE : 파일 확장자명"
   ],
   "cell_type": "markdown",
   "metadata": {}
  },
  {
   "cell_type": "code",
   "execution_count": 1,
   "metadata": {},
   "outputs": [],
   "source": [
    "import FileManager"
   ]
  },
  {
   "cell_type": "code",
   "execution_count": 2,
   "metadata": {},
   "outputs": [],
   "source": [
    "FM = FileManager.FileMaker(FOLDER_PATH='D:/Datas/', MAX_DATAS=50000, FILE_TYPE='.txt')"
   ]
  },
  {
   "cell_type": "code",
   "execution_count": 3,
   "metadata": {},
   "outputs": [],
   "source": [
    "FM.Start()"
   ]
  },
  {
   "cell_type": "code",
   "execution_count": 4,
   "metadata": {},
   "outputs": [],
   "source": [
    "FM.Write_Data('데이터 저장')\n",
    "FM.Write_Data('데이터 저장')"
   ]
  },
  {
   "source": [
    "## ※ 파일 입력 후 꼭 닫아주셔야 됩니다 ! (필수)\n",
    "\n",
    "귀찮으실수 있지만 많은양의 데이터를 연속으로 작성할 경우, 파일을 열고닫고를 반복하는 것은 비효율적이기 때문에 이렇게 작성했습니다."
   ],
   "cell_type": "markdown",
   "metadata": {}
  },
  {
   "cell_type": "code",
   "execution_count": 5,
   "metadata": {},
   "outputs": [],
   "source": [
    "FM.Close_File()"
   ]
  },
  {
   "source": [
    "## 생성 결과:\n",
    "파일 생성  \n",
    "D:/Datas/001.txt\n",
    "\n",
    "001.txt (파일 오픈)  \n",
    "데이터 저장  \n",
    "데이터 저장"
   ],
   "cell_type": "markdown",
   "metadata": {}
  },
  {
   "cell_type": "code",
   "execution_count": null,
   "metadata": {},
   "outputs": [],
   "source": []
  },
  {
   "source": [
    "## Json Maker (Json 형식 데이터 저장)\n",
    "1. FOLDER_PATH : 데이터를 저장할 경로 (설정하지 않을 시 현재 Working Directory 하위에 Datas/AA/001.json으로 생성)\n",
    "2. MAX_DATAS : 파일 당 최대 몇 번 저장할 것인지"
   ],
   "cell_type": "markdown",
   "metadata": {}
  },
  {
   "cell_type": "code",
   "execution_count": 4,
   "metadata": {},
   "outputs": [],
   "source": [
    "JM = FileManager.JsonMaker(FOLDER_PATH='D:/Datas/', MAX_DATAS=50000)"
   ]
  },
  {
   "cell_type": "code",
   "execution_count": 5,
   "metadata": {},
   "outputs": [],
   "source": [
    "JM.Start()"
   ]
  },
  {
   "cell_type": "code",
   "execution_count": 6,
   "metadata": {},
   "outputs": [],
   "source": [
    "JM.Write_Data(\n",
    "    {\n",
    "        'key1' : 'value1',\n",
    "        'key2' : 'value2'\n",
    "    }\n",
    ")"
   ]
  },
  {
   "source": [
    "## 마찬가지로 파일 꼭 닫아주셔야 됩니다 !"
   ],
   "cell_type": "markdown",
   "metadata": {}
  },
  {
   "cell_type": "code",
   "execution_count": 7,
   "metadata": {},
   "outputs": [],
   "source": [
    "JM.Close_File()"
   ]
  },
  {
   "source": [
    "## 생성 결과:\n",
    "D:/Datas/001.json\n",
    "\n",
    "001.json (파일 오픈)  \n",
    "<pre>\n",
    "[  \n",
    "{\"key1\": \"value1\", \"key2\": \"value2\"}  \n",
    "]\n",
    "</pre>"
   ],
   "cell_type": "markdown",
   "metadata": {}
  },
  {
   "cell_type": "code",
   "execution_count": null,
   "metadata": {},
   "outputs": [],
   "source": []
  },
  {
   "source": [
    "## CSV Maker\n",
    "\n",
    "1. FOLDER_PATH : 데이터를 저장할 경로 (설정하지 않을 시 현재 Working Directory 하위에 Datas/AA/001.txt로 생성)\n",
    "2. MAX_DATAS : 파일 당 최대 몇 번 저장할 것인지"
   ],
   "cell_type": "markdown",
   "metadata": {}
  },
  {
   "cell_type": "code",
   "execution_count": 10,
   "metadata": {},
   "outputs": [],
   "source": [
    "CM = FileManager.CSVMaker(FOLDER_PATH='D:/Datas/', MAX_DATAS=50000)"
   ]
  },
  {
   "cell_type": "code",
   "execution_count": 11,
   "metadata": {},
   "outputs": [],
   "source": [
    "CM.Start(COLUMNS_NAMES='column1 column2 column3 column4')"
   ]
  },
  {
   "cell_type": "code",
   "execution_count": 12,
   "metadata": {},
   "outputs": [],
   "source": [
    "CM.Write_Data(['value1', 'value2', 'value3', 'value4'])"
   ]
  },
  {
   "cell_type": "code",
   "execution_count": 13,
   "metadata": {},
   "outputs": [],
   "source": [
    "CM.Close_File()"
   ]
  },
  {
   "source": [
    "## 생성 결과:\n",
    "D:/Datas/001.csv\n",
    "\n",
    "001.csv (파일 오픈)\n",
    "<pre>\n",
    "column1,column2,column3,column4\n",
    "value1,value2,value3,value4\n",
    "</pre>"
   ],
   "cell_type": "markdown",
   "metadata": {}
  },
  {
   "cell_type": "code",
   "execution_count": null,
   "metadata": {},
   "outputs": [],
   "source": []
  },
  {
   "source": [
    "## 디렉토리 내 파일 탐색\n",
    "\n",
    "### ※ 현재 경로 확인 필수 !\n",
    "\n",
    "1. FOLDER_PATH : 찾을 폴더\n",
    "2. FILE_TYPE : 모든 파일+폴더 탐색 (.), 특정 확장자 탐색 ('.json')\n",
    "3. ONLY_FOLDER : 폴더만 탐색"
   ],
   "cell_type": "markdown",
   "metadata": {}
  },
  {
   "cell_type": "code",
   "execution_count": 2,
   "metadata": {},
   "outputs": [],
   "source": [
    "FS = FileManager.File_Search(FOLDER_DIR='D:/Datas', FILE_TYPE='.', ONLY_FOLDER=True)"
   ]
  },
  {
   "cell_type": "code",
   "execution_count": 3,
   "metadata": {},
   "outputs": [
    {
     "output_type": "execute_result",
     "data": {
      "text/plain": [
       "[\"D:/Datas\\\\askjdasd'\", 'D:/Datas\\\\askjdclkz', 'D:/Datas\\\\Insta']"
      ]
     },
     "metadata": {},
     "execution_count": 3
    }
   ],
   "source": [
    "FS"
   ]
  },
  {
   "cell_type": "code",
   "execution_count": null,
   "metadata": {},
   "outputs": [],
   "source": []
  },
  {
   "source": [
    "## 파일 이름 변경"
   ],
   "cell_type": "markdown",
   "metadata": {}
  },
  {
   "cell_type": "code",
   "execution_count": 14,
   "metadata": {},
   "outputs": [],
   "source": [
    "# 100개의 파일 생성\n",
    "for i in range(100):\n",
    "    JM = FileManager.JsonMaker(FOLDER_PATH='D:/Datas/', MAX_DATAS=50000)\n",
    "    JM.Start()\n",
    "    JM.Write_Data(\n",
    "        {\n",
    "            'key1' : 'value1',\n",
    "            'key2' : 'value2'\n",
    "        }\n",
    "    )\n",
    "    JM.Close_File()"
   ]
  },
  {
   "cell_type": "code",
   "execution_count": 11,
   "metadata": {},
   "outputs": [
    {
     "output_type": "execute_result",
     "data": {
      "text/plain": [
       "['D:/Datas\\\\096.json',\n",
       " 'D:/Datas\\\\097.json',\n",
       " 'D:/Datas\\\\098.json',\n",
       " 'D:/Datas\\\\099.json',\n",
       " 'D:/Datas\\\\100.json']"
      ]
     },
     "metadata": {},
     "execution_count": 11
    }
   ],
   "source": [
    "# 100개의 파일이 검색됨\n",
    "FS = FileManager.File_Search('D:/Datas', '.json', ONLY_FOLDER=False)\n",
    "FS[-5:]"
   ]
  },
  {
   "source": [
    "## Change_Name\n",
    "\n",
    "1. FOLDER_PATH : 파일을 변경할 폴더\n",
    "2. FILE_TYPE : 파일 확장자\n",
    "3. TARGET_NAME : 바꿀 이름 \n",
    "\n",
    "결과 : 바꿀이름_0.확장자 로 변경"
   ],
   "cell_type": "markdown",
   "metadata": {}
  },
  {
   "cell_type": "code",
   "execution_count": 12,
   "metadata": {},
   "outputs": [],
   "source": [
    "FileManager.Change_Name(FOLDER_PATH='D:/Datas', FILE_TYPE='.json', TARGET_NAME='Test')"
   ]
  },
  {
   "cell_type": "code",
   "execution_count": 13,
   "metadata": {},
   "outputs": [
    {
     "output_type": "execute_result",
     "data": {
      "text/plain": [
       "['D:/Datas\\\\Test_95.json',\n",
       " 'D:/Datas\\\\Test_96.json',\n",
       " 'D:/Datas\\\\Test_97.json',\n",
       " 'D:/Datas\\\\Test_98.json',\n",
       " 'D:/Datas\\\\Test_99.json']"
      ]
     },
     "metadata": {},
     "execution_count": 13
    }
   ],
   "source": [
    "FS = FileManager.File_Search('D:/Datas', '.json', ONLY_FOLDER=False)\n",
    "FS[-5:] # 0부터 시작해서 99로 끝남"
   ]
  },
  {
   "cell_type": "code",
   "execution_count": null,
   "metadata": {},
   "outputs": [],
   "source": []
  },
  {
   "source": [
    "## 파일, 폴더 삭제\n",
    "\n",
    "- 구현은 간단하기 때문에 함수로 묶지 않음\n",
    "\n",
    "<pre>\n",
    "D:/Datas\\\\data.json 형식일 시 인식 X\n",
    "/(슬래시), \\(역슬래시 구분할 것)\n",
    "</pre>"
   ],
   "cell_type": "markdown",
   "metadata": {}
  },
  {
   "cell_type": "code",
   "execution_count": 21,
   "metadata": {},
   "outputs": [],
   "source": [
    "import os\n",
    "FS = FileManager.File_Search(r'D:\\Datas', '.json', ONLY_FOLDER=False)\n",
    "for f in FS:\n",
    "    os.remove(f)"
   ]
  },
  {
   "cell_type": "code",
   "execution_count": 22,
   "metadata": {},
   "outputs": [],
   "source": [
    "FS = FileManager.File_Search(r'D:\\Datas\\asdasdf', '.', ONLY_FOLDER=False)\n",
    "for d in FS:\n",
    "    os.rmdir(d)"
   ]
  },
  {
   "cell_type": "code",
   "execution_count": null,
   "metadata": {},
   "outputs": [],
   "source": []
  }
 ]
}